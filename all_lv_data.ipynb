{
 "cells": [
  {
   "cell_type": "code",
   "execution_count": 1,
   "id": "initial_id",
   "metadata": {
    "collapsed": true,
    "ExecuteTime": {
     "end_time": "2024-04-20T16:03:10.121152Z",
     "start_time": "2024-04-20T16:03:09.567463500Z"
    }
   },
   "outputs": [],
   "source": [
    "import numpy as np\n",
    "import pandas as pd"
   ]
  },
  {
   "cell_type": "code",
   "execution_count": 2,
   "outputs": [],
   "source": [
    "data = pd.read_csv('ukpn-smart-meter-consumption-lv-feeder.csv')"
   ],
   "metadata": {
    "collapsed": false,
    "ExecuteTime": {
     "end_time": "2024-04-20T16:03:17.803770500Z",
     "start_time": "2024-04-20T16:03:10.123153100Z"
    }
   },
   "id": "e0325cf747fbbdb2"
  },
  {
   "cell_type": "code",
   "execution_count": 3,
   "outputs": [
    {
     "data": {
      "text/plain": "        secondary_substation_id  lv_feeder_id  \\\n0             EPN-S0000004U0857          83.0   \n1             EPN-S0000004U0857          84.0   \n2             EPN-S0000004U0860          81.0   \n3             EPN-S0000004U0860          81.0   \n4             EPN-S0000004U0860          81.0   \n...                         ...           ...   \n3074320       EPN-S0000004U0912           6.0   \n3074321       EPN-S0000004U0913          84.0   \n3074322       EPN-S0000004U0915          82.0   \n3074323       EPN-S0000004U0915          83.0   \n3074324       EPN-S0000004U0923          81.0   \n\n         total_consumption_active_import  aggregated_device_count_active  \\\n0                                 5745.0                            28.0   \n1                                  824.0                             6.0   \n2                                 4386.0                            56.0   \n3                                16467.0                            56.0   \n4                                15814.0                            57.0   \n...                                  ...                             ...   \n3074320                           4023.0                            40.0   \n3074321                           2716.0                            12.0   \n3074322                           7485.0                            12.0   \n3074323                           3546.0                            19.0   \n3074324                           1142.0                             8.0   \n\n        data_collection_log_timestamp  active_power_per_device  \n0           2024-01-01T13:00:00+03:00               205.178571  \n1           2024-01-22T06:30:00+03:00               137.333333  \n2           2024-01-14T05:00:00+03:00                78.321429  \n3           2024-01-15T23:00:00+03:00               294.053571  \n4           2024-01-23T12:30:00+03:00               277.438596  \n...                               ...                      ...  \n3074320     2024-01-14T08:30:00+03:00               100.575000  \n3074321     2024-01-10T13:30:00+03:00               226.333333  \n3074322     2024-01-08T08:30:00+03:00               623.750000  \n3074323     2024-01-13T19:00:00+03:00               186.631579  \n3074324     2024-01-03T07:00:00+03:00               142.750000  \n\n[3074325 rows x 6 columns]",
      "text/html": "<div>\n<style scoped>\n    .dataframe tbody tr th:only-of-type {\n        vertical-align: middle;\n    }\n\n    .dataframe tbody tr th {\n        vertical-align: top;\n    }\n\n    .dataframe thead th {\n        text-align: right;\n    }\n</style>\n<table border=\"1\" class=\"dataframe\">\n  <thead>\n    <tr style=\"text-align: right;\">\n      <th></th>\n      <th>secondary_substation_id</th>\n      <th>lv_feeder_id</th>\n      <th>total_consumption_active_import</th>\n      <th>aggregated_device_count_active</th>\n      <th>data_collection_log_timestamp</th>\n      <th>active_power_per_device</th>\n    </tr>\n  </thead>\n  <tbody>\n    <tr>\n      <th>0</th>\n      <td>EPN-S0000004U0857</td>\n      <td>83.0</td>\n      <td>5745.0</td>\n      <td>28.0</td>\n      <td>2024-01-01T13:00:00+03:00</td>\n      <td>205.178571</td>\n    </tr>\n    <tr>\n      <th>1</th>\n      <td>EPN-S0000004U0857</td>\n      <td>84.0</td>\n      <td>824.0</td>\n      <td>6.0</td>\n      <td>2024-01-22T06:30:00+03:00</td>\n      <td>137.333333</td>\n    </tr>\n    <tr>\n      <th>2</th>\n      <td>EPN-S0000004U0860</td>\n      <td>81.0</td>\n      <td>4386.0</td>\n      <td>56.0</td>\n      <td>2024-01-14T05:00:00+03:00</td>\n      <td>78.321429</td>\n    </tr>\n    <tr>\n      <th>3</th>\n      <td>EPN-S0000004U0860</td>\n      <td>81.0</td>\n      <td>16467.0</td>\n      <td>56.0</td>\n      <td>2024-01-15T23:00:00+03:00</td>\n      <td>294.053571</td>\n    </tr>\n    <tr>\n      <th>4</th>\n      <td>EPN-S0000004U0860</td>\n      <td>81.0</td>\n      <td>15814.0</td>\n      <td>57.0</td>\n      <td>2024-01-23T12:30:00+03:00</td>\n      <td>277.438596</td>\n    </tr>\n    <tr>\n      <th>...</th>\n      <td>...</td>\n      <td>...</td>\n      <td>...</td>\n      <td>...</td>\n      <td>...</td>\n      <td>...</td>\n    </tr>\n    <tr>\n      <th>3074320</th>\n      <td>EPN-S0000004U0912</td>\n      <td>6.0</td>\n      <td>4023.0</td>\n      <td>40.0</td>\n      <td>2024-01-14T08:30:00+03:00</td>\n      <td>100.575000</td>\n    </tr>\n    <tr>\n      <th>3074321</th>\n      <td>EPN-S0000004U0913</td>\n      <td>84.0</td>\n      <td>2716.0</td>\n      <td>12.0</td>\n      <td>2024-01-10T13:30:00+03:00</td>\n      <td>226.333333</td>\n    </tr>\n    <tr>\n      <th>3074322</th>\n      <td>EPN-S0000004U0915</td>\n      <td>82.0</td>\n      <td>7485.0</td>\n      <td>12.0</td>\n      <td>2024-01-08T08:30:00+03:00</td>\n      <td>623.750000</td>\n    </tr>\n    <tr>\n      <th>3074323</th>\n      <td>EPN-S0000004U0915</td>\n      <td>83.0</td>\n      <td>3546.0</td>\n      <td>19.0</td>\n      <td>2024-01-13T19:00:00+03:00</td>\n      <td>186.631579</td>\n    </tr>\n    <tr>\n      <th>3074324</th>\n      <td>EPN-S0000004U0923</td>\n      <td>81.0</td>\n      <td>1142.0</td>\n      <td>8.0</td>\n      <td>2024-01-03T07:00:00+03:00</td>\n      <td>142.750000</td>\n    </tr>\n  </tbody>\n</table>\n<p>3074325 rows × 6 columns</p>\n</div>"
     },
     "execution_count": 3,
     "metadata": {},
     "output_type": "execute_result"
    }
   ],
   "source": [
    "data = data[['secondary_substation_id', 'lv_feeder_id', 'total_consumption_active_import', 'aggregated_device_count_active', 'data_collection_log_timestamp']]\n",
    "data['active_power_per_device'] = data['total_consumption_active_import'] / data['aggregated_device_count_active']\n",
    "data"
   ],
   "metadata": {
    "collapsed": false,
    "ExecuteTime": {
     "end_time": "2024-04-20T16:03:18.005860600Z",
     "start_time": "2024-04-20T16:03:17.830291300Z"
    }
   },
   "id": "8d6f1c9cf7aa5017"
  },
  {
   "cell_type": "code",
   "execution_count": 4,
   "outputs": [
    {
     "name": "stdout",
     "output_type": "stream",
     "text": [
      "<class 'pandas.core.frame.DataFrame'>\n",
      "Index: 2845808 entries, 0 to 3074324\n",
      "Data columns (total 6 columns):\n",
      " #   Column                           Dtype  \n",
      "---  ------                           -----  \n",
      " 0   secondary_substation_id          object \n",
      " 1   lv_feeder_id                     float64\n",
      " 2   total_consumption_active_import  float64\n",
      " 3   aggregated_device_count_active   float64\n",
      " 4   data_collection_log_timestamp    object \n",
      " 5   active_power_per_device          float64\n",
      "dtypes: float64(4), object(2)\n",
      "memory usage: 152.0+ MB\n"
     ]
    }
   ],
   "source": [
    "data = data.dropna()\n",
    "data.info()"
   ],
   "metadata": {
    "collapsed": false,
    "ExecuteTime": {
     "end_time": "2024-04-20T16:03:18.426408700Z",
     "start_time": "2024-04-20T16:03:18.260348200Z"
    }
   },
   "id": "dfaf2b7060e398d5"
  },
  {
   "cell_type": "code",
   "execution_count": 10,
   "outputs": [],
   "source": [
    "subs = data['secondary_substation_id'].unique()"
   ],
   "metadata": {
    "collapsed": false,
    "ExecuteTime": {
     "end_time": "2024-04-20T16:07:27.721073500Z",
     "start_time": "2024-04-20T16:07:27.485774800Z"
    }
   },
   "id": "cdd9b5d28c2d8e2b"
  },
  {
   "cell_type": "code",
   "execution_count": 11,
   "outputs": [],
   "source": [
    "lv_data = []\n",
    "key = []\n",
    "for sub in subs:\n",
    "    for lv_id in data[data['secondary_substation_id'] == sub]['lv_feeder_id'].unique():\n",
    "        row = data[(data['secondary_substation_id'] == sub) & (data['lv_feeder_id'] == lv_id)][['active_power_per_device', 'data_collection_log_timestamp']]\n",
    "        if len(row) == 1488:\n",
    "            lv_data.append(row.sort_values(by=['data_collection_log_timestamp'])['active_power_per_device'].to_numpy())\n",
    "            key.append((sub, lv_id))"
   ],
   "metadata": {
    "collapsed": false,
    "ExecuteTime": {
     "end_time": "2024-04-20T16:16:20.293461500Z",
     "start_time": "2024-04-20T16:07:28.600902600Z"
    }
   },
   "id": "557321fd4f2408de"
  },
  {
   "cell_type": "code",
   "execution_count": 8,
   "outputs": [
    {
     "data": {
      "text/plain": "         active_power_per_device data_collection_log_timestamp\n0                     205.178571     2024-01-01T13:00:00+03:00\n1883                  365.666667     2024-01-20T15:30:00+03:00\n4528                  104.266667     2024-01-27T07:00:00+03:00\n6699                  145.033333     2024-01-26T09:30:00+03:00\n6700                  321.933333     2024-01-26T10:30:00+03:00\n...                          ...                           ...\n3063959               221.066667     2024-01-06T12:00:00+03:00\n3064923               310.366667     2024-01-06T23:30:00+03:00\n3070575               250.000000     2024-01-09T01:00:00+03:00\n3070576               260.333333     2024-01-25T00:00:00+03:00\n3073478               142.733333     2024-01-29T04:00:00+03:00\n\n[1488 rows x 2 columns]",
      "text/html": "<div>\n<style scoped>\n    .dataframe tbody tr th:only-of-type {\n        vertical-align: middle;\n    }\n\n    .dataframe tbody tr th {\n        vertical-align: top;\n    }\n\n    .dataframe thead th {\n        text-align: right;\n    }\n</style>\n<table border=\"1\" class=\"dataframe\">\n  <thead>\n    <tr style=\"text-align: right;\">\n      <th></th>\n      <th>active_power_per_device</th>\n      <th>data_collection_log_timestamp</th>\n    </tr>\n  </thead>\n  <tbody>\n    <tr>\n      <th>0</th>\n      <td>205.178571</td>\n      <td>2024-01-01T13:00:00+03:00</td>\n    </tr>\n    <tr>\n      <th>1883</th>\n      <td>365.666667</td>\n      <td>2024-01-20T15:30:00+03:00</td>\n    </tr>\n    <tr>\n      <th>4528</th>\n      <td>104.266667</td>\n      <td>2024-01-27T07:00:00+03:00</td>\n    </tr>\n    <tr>\n      <th>6699</th>\n      <td>145.033333</td>\n      <td>2024-01-26T09:30:00+03:00</td>\n    </tr>\n    <tr>\n      <th>6700</th>\n      <td>321.933333</td>\n      <td>2024-01-26T10:30:00+03:00</td>\n    </tr>\n    <tr>\n      <th>...</th>\n      <td>...</td>\n      <td>...</td>\n    </tr>\n    <tr>\n      <th>3063959</th>\n      <td>221.066667</td>\n      <td>2024-01-06T12:00:00+03:00</td>\n    </tr>\n    <tr>\n      <th>3064923</th>\n      <td>310.366667</td>\n      <td>2024-01-06T23:30:00+03:00</td>\n    </tr>\n    <tr>\n      <th>3070575</th>\n      <td>250.000000</td>\n      <td>2024-01-09T01:00:00+03:00</td>\n    </tr>\n    <tr>\n      <th>3070576</th>\n      <td>260.333333</td>\n      <td>2024-01-25T00:00:00+03:00</td>\n    </tr>\n    <tr>\n      <th>3073478</th>\n      <td>142.733333</td>\n      <td>2024-01-29T04:00:00+03:00</td>\n    </tr>\n  </tbody>\n</table>\n<p>1488 rows × 2 columns</p>\n</div>"
     },
     "execution_count": 8,
     "metadata": {},
     "output_type": "execute_result"
    }
   ],
   "source": [
    "data[(data['secondary_substation_id'] == subs[0]) & (data['lv_feeder_id'] == 83.0)][['active_power_per_device', 'data_collection_log_timestamp']]"
   ],
   "metadata": {
    "collapsed": false,
    "ExecuteTime": {
     "end_time": "2024-04-20T16:03:45.603601300Z",
     "start_time": "2024-04-20T16:03:45.576605800Z"
    }
   },
   "id": "1ade10b2c8ac41f8"
  },
  {
   "cell_type": "code",
   "execution_count": 9,
   "outputs": [
    {
     "data": {
      "text/plain": "         active_power_per_device data_collection_log_timestamp\n2031524               181.035714     2024-01-01T03:00:00+03:00\n1918160               144.571429     2024-01-01T03:30:00+03:00\n1155541               131.357143     2024-01-01T04:00:00+03:00\n1515604               131.892857     2024-01-01T04:30:00+03:00\n1235523               141.000000     2024-01-01T05:00:00+03:00\n...                          ...                           ...\n1846803               216.333333     2024-02-01T00:30:00+03:00\n851979                219.200000     2024-02-01T01:00:00+03:00\n1039946               213.533333     2024-02-01T01:30:00+03:00\n2988536               236.266667     2024-02-01T02:00:00+03:00\n601146                180.000000     2024-02-01T02:30:00+03:00\n\n[1488 rows x 2 columns]",
      "text/html": "<div>\n<style scoped>\n    .dataframe tbody tr th:only-of-type {\n        vertical-align: middle;\n    }\n\n    .dataframe tbody tr th {\n        vertical-align: top;\n    }\n\n    .dataframe thead th {\n        text-align: right;\n    }\n</style>\n<table border=\"1\" class=\"dataframe\">\n  <thead>\n    <tr style=\"text-align: right;\">\n      <th></th>\n      <th>active_power_per_device</th>\n      <th>data_collection_log_timestamp</th>\n    </tr>\n  </thead>\n  <tbody>\n    <tr>\n      <th>2031524</th>\n      <td>181.035714</td>\n      <td>2024-01-01T03:00:00+03:00</td>\n    </tr>\n    <tr>\n      <th>1918160</th>\n      <td>144.571429</td>\n      <td>2024-01-01T03:30:00+03:00</td>\n    </tr>\n    <tr>\n      <th>1155541</th>\n      <td>131.357143</td>\n      <td>2024-01-01T04:00:00+03:00</td>\n    </tr>\n    <tr>\n      <th>1515604</th>\n      <td>131.892857</td>\n      <td>2024-01-01T04:30:00+03:00</td>\n    </tr>\n    <tr>\n      <th>1235523</th>\n      <td>141.000000</td>\n      <td>2024-01-01T05:00:00+03:00</td>\n    </tr>\n    <tr>\n      <th>...</th>\n      <td>...</td>\n      <td>...</td>\n    </tr>\n    <tr>\n      <th>1846803</th>\n      <td>216.333333</td>\n      <td>2024-02-01T00:30:00+03:00</td>\n    </tr>\n    <tr>\n      <th>851979</th>\n      <td>219.200000</td>\n      <td>2024-02-01T01:00:00+03:00</td>\n    </tr>\n    <tr>\n      <th>1039946</th>\n      <td>213.533333</td>\n      <td>2024-02-01T01:30:00+03:00</td>\n    </tr>\n    <tr>\n      <th>2988536</th>\n      <td>236.266667</td>\n      <td>2024-02-01T02:00:00+03:00</td>\n    </tr>\n    <tr>\n      <th>601146</th>\n      <td>180.000000</td>\n      <td>2024-02-01T02:30:00+03:00</td>\n    </tr>\n  </tbody>\n</table>\n<p>1488 rows × 2 columns</p>\n</div>"
     },
     "execution_count": 9,
     "metadata": {},
     "output_type": "execute_result"
    }
   ],
   "source": [
    "data[(data['secondary_substation_id'] == subs[0]) & (data['lv_feeder_id'] == 83.0)][['active_power_per_device', 'data_collection_log_timestamp']].sort_values(by=['data_collection_log_timestamp'])"
   ],
   "metadata": {
    "collapsed": false,
    "ExecuteTime": {
     "end_time": "2024-04-20T16:04:35.351764700Z",
     "start_time": "2024-04-20T16:04:35.130706Z"
    }
   },
   "id": "e55ce850e3f6e737"
  },
  {
   "cell_type": "code",
   "execution_count": 12,
   "outputs": [],
   "source": [
    "lv_data = np.array(lv_data)"
   ],
   "metadata": {
    "collapsed": false,
    "ExecuteTime": {
     "end_time": "2024-04-20T16:16:20.325803600Z",
     "start_time": "2024-04-20T16:16:20.294453200Z"
    }
   },
   "id": "87a764371d2552a6"
  },
  {
   "cell_type": "code",
   "execution_count": 13,
   "outputs": [],
   "source": [
    "key = np.array(key)"
   ],
   "metadata": {
    "collapsed": false,
    "ExecuteTime": {
     "end_time": "2024-04-20T16:16:20.345806500Z",
     "start_time": "2024-04-20T16:16:20.326802500Z"
    }
   },
   "id": "e6bebe26e5f98a57"
  },
  {
   "cell_type": "code",
   "execution_count": 39,
   "outputs": [
    {
     "data": {
      "text/plain": "array([['EPN-S0000004U0857', '83.0'],\n       ['EPN-S0000004U0857', '82.0'],\n       ['EPN-S0000004U0857', '81.0'],\n       ...,\n       ['EPN-R00000000A01F-000-167Z', '81.0'],\n       ['EPN-S0000004U0458', '82.0'],\n       ['EPN-R00000000B64C-000-021Z', '81.0']], dtype='<U32')"
     },
     "execution_count": 39,
     "metadata": {},
     "output_type": "execute_result"
    }
   ],
   "source": [
    "key"
   ],
   "metadata": {
    "collapsed": false,
    "ExecuteTime": {
     "end_time": "2024-04-20T13:40:11.500380600Z",
     "start_time": "2024-04-20T13:40:11.452377700Z"
    }
   },
   "id": "99e4c22876d666b5"
  },
  {
   "cell_type": "code",
   "execution_count": 14,
   "outputs": [],
   "source": [
    "pd.DataFrame(lv_data).to_csv('lv_data.csv')\n",
    "pd.DataFrame(key).to_csv('lv_key.csv')"
   ],
   "metadata": {
    "collapsed": false,
    "ExecuteTime": {
     "end_time": "2024-04-20T16:16:23.155342800Z",
     "start_time": "2024-04-20T16:16:20.342802800Z"
    }
   },
   "id": "8ba0c5d51532c27f"
  },
  {
   "cell_type": "code",
   "execution_count": 15,
   "outputs": [
    {
     "data": {
      "text/plain": "array([[181.03571429, 144.57142857, 131.35714286, ..., 213.53333333,\n        236.26666667, 180.        ],\n       [281.5       , 198.5       , 161.5       , ..., 167.75      ,\n        105.66666667,  91.16666667],\n       [224.57142857, 235.14285714, 231.5       , ..., 271.81395349,\n        209.76744186, 160.04651163],\n       ...,\n       [180.3       , 348.3       , 434.2       , ..., 186.42857143,\n        153.64285714, 100.64285714],\n       [127.04166667,  99.33333333, 103.625     , ..., 164.53333333,\n        109.83333333,  96.8       ],\n       [ 70.77777778,  75.        ,  63.22222222, ..., 186.2       ,\n        183.2       , 137.5       ]])"
     },
     "execution_count": 15,
     "metadata": {},
     "output_type": "execute_result"
    }
   ],
   "source": [
    "lv_data"
   ],
   "metadata": {
    "collapsed": false,
    "ExecuteTime": {
     "end_time": "2024-04-20T16:17:53.044255300Z",
     "start_time": "2024-04-20T16:17:53.008247400Z"
    }
   },
   "id": "bf0a4ae7a9bdc8f8"
  },
  {
   "cell_type": "code",
   "execution_count": null,
   "outputs": [],
   "source": [],
   "metadata": {
    "collapsed": false
   },
   "id": "cec4a2caebb41c0c"
  }
 ],
 "metadata": {
  "kernelspec": {
   "display_name": "Python 3",
   "language": "python",
   "name": "python3"
  },
  "language_info": {
   "codemirror_mode": {
    "name": "ipython",
    "version": 2
   },
   "file_extension": ".py",
   "mimetype": "text/x-python",
   "name": "python",
   "nbconvert_exporter": "python",
   "pygments_lexer": "ipython2",
   "version": "2.7.6"
  }
 },
 "nbformat": 4,
 "nbformat_minor": 5
}
